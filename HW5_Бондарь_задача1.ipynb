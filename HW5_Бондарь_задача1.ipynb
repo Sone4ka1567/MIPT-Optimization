{
  "cells": [
    {
      "cell_type": "markdown",
      "metadata": {
        "id": "t7sfpFZrxu4J"
      },
      "source": [
        "# Домашнее задание 5\n",
        "\n",
        "__Дедлайн: 18.12.2022, 23:59__\n",
        "\n",
        "Дедлайн является более жёстким, чем обычно. Ваши баллы будут убывать за опоздание на каждые полчаса до нуля в течение 10 часов . Т.е. человек приславший 19.12.2022 в 00:01 получит 19/20 баллов, а приславший в 09:30 - 1/20. \n",
        "\n",
        "Файлы должны иметь имя HW4_ФАМИЛИЯ.ipynb, где ФАМИЛИЯ - Ваша фамилия русскими буквами. \n",
        "\n",
        "Решение каждой задачи необходимо поместить после её условия.\n",
        "\n",
        "Пожалуйста, пишите свои решения чётко и понятно. \n",
        "При полном запуске Вашего решения (Kernel -> Restart & Run All) все ячейки должны выполняться **без ошибок**. "
      ]
    },
    {
      "cell_type": "markdown",
      "metadata": {
        "id": "kVDFT8mhxu4T"
      },
      "source": [
        "Во всех задачах, где требуется сравнить методы, требуется аккуратное офрмление графиков, если Вы их будете строить, и комментарии к графикам (кто кого быстрее и когда сходится, какие интересные моменты Вы видите на графиках, как Вы их можете объяснить). Аналогично, требуются комментарии в случае, если Вы сравниваете время работы.\n",
        "\n",
        "Суммарное количество баллов: 22"
      ]
    },
    {
      "cell_type": "markdown",
      "metadata": {
        "id": "NxALp_WLxu4W"
      },
      "source": [
        "# Задача 1. Intro to Distributed Optimization [11]\n",
        "\n",
        "Пусть мы хотим обучить модель и мы записали данные на разные вычислительные устройства. Каждое из этих устройств может обучать модель локально и не видит данных с других устройств. Также у нас есть некоторый сервер, который может брать текущие модели со всех устройств, усреднять их параметры и рассылать их обратно. Далее наши вычислительные устройства мы будем называть узлами.\n",
        "\n",
        "Формально задачу распределенной оптимизации можно записать в следующем виде:\n",
        "\n",
        "$$\\min F(w)=\\sum\\limits_{i=1}^n F_i(w),$$\n",
        "где $F_i(w) = \\frac{1}{l}\\sum\\limits_{j=1}^l \\ell(nn(x_j, w), y_j)$ - лоcc-функция на $i$-ом узле. Вам в этой задаче предлагается реализовать протокол, симулирующий распределнное обучение. В п.1-3 предлагается реализовать этот подход в классе `DistributedOptimization`, однако Вы можете писать полностью свой код или менять архитектуру класса на Ваше усмотрение.\n",
        "\n",
        "В данной задаче мы будем считать, что `num_nodes=10,` и данные на этих узлах распределены одинаково.\n",
        "\n",
        "0. [3*] Добавьте возможность обучать модели  усредняя их не только после каждой эпохи, но и после каждой итерации (т.е. реализуйте симуляцию распределенного обучения, таким образом, чтобы имелась возможность проводить коммуникацию после любого числа шагов оптимизатора). Сравните скорости сходимости для метода Adam (с lr=1e-3) в распределенных случаях при различных соотношениях числа коммуникаций/локальных шагов на тестовой задаче (см. п. 4).\n",
        "\n",
        "1. [2] Реализуйте метод, который обучает модель в каждом узле\n",
        "\n",
        "2. [3] Реализуйте метод, который усредняет параметры моделей во всех узлах\n",
        "\n",
        "3. [2] Используя реализованные выше методы, реализуйте метод, который обучает модель в распределенной манере. То есть `num_global_epochs` раз обучает модели на узлах (`num_local_epochs` эпох на каждом узле) и усредняет их. Добавьте возможность измерения качества на валидационной выборке после каждого усреднения\n",
        "\n",
        "4. [4] Для тестовой задачи мы возьмем задачу обучения сети CNN (см. код ниже) на датасете MNIST. Обучите эту сеть при помощи Adam (с lr=1e-3) распределенным образом. Покажите график сходимости на тестовой выборке.\n",
        "\n",
        "*Примечание:* При реализации через pytorch не забывайте делать model.train() и model.eval(). При сложностях с pytorch Вы можете сделать то же самое, используя numpy и jax. Используйте в таком случае SGD с шагом lr=1e-2"
      ]
    },
    {
      "cell_type": "markdown",
      "metadata": {
        "id": "5xwlCruoxu4e"
      },
      "source": [
        "## Решение задачи 1: "
      ]
    },
    {
      "cell_type": "code",
      "execution_count": 3,
      "metadata": {
        "id": "qgxmdaVOF724"
      },
      "outputs": [],
      "source": [
        "import numpy as np\n",
        "import torch\n",
        "from torch import nn\n",
        "from torch.optim import Optimizer\n",
        "from torch.optim import Adam\n",
        "from torch.nn import functional as F"
      ]
    },
    {
      "cell_type": "code",
      "execution_count": 4,
      "metadata": {
        "id": "s2qXDGlyGUMF"
      },
      "outputs": [],
      "source": [
        "import torchvision\n",
        "import torchvision.datasets as datasets\n",
        "import torchvision.transforms as transforms"
      ]
    },
    {
      "cell_type": "code",
      "execution_count": 5,
      "metadata": {
        "id": "8Hhpj-CNHB1w"
      },
      "outputs": [],
      "source": [
        "class CNN(nn.Module):\n",
        "    def __init__(self):\n",
        "        super(CNN, self).__init__()\n",
        "        self.conv1 = nn.Conv2d(1, 10, kernel_size=5)\n",
        "        self.conv2 = nn.Conv2d(10, 20, kernel_size=5)\n",
        "        self.conv2_drop = nn.Dropout2d()\n",
        "        self.fc1 = nn.Linear(320, 50)\n",
        "        self.fc2 = nn.Linear(50, 10)\n",
        "\n",
        "    def forward(self, x):\n",
        "        x = F.relu(F.max_pool2d(self.conv1(x), 2))\n",
        "        x = F.relu(F.max_pool2d(self.conv2_drop(self.conv2(x)), 2))\n",
        "        x = x.view(-1, 320)\n",
        "        x = F.relu(self.fc1(x))\n",
        "        x = F.dropout(x, training=self.training)\n",
        "        x = self.fc2(x)\n",
        "        return F.log_softmax(x)"
      ]
    },
    {
      "cell_type": "code",
      "execution_count": 61,
      "metadata": {
        "id": "1SWfBfMfF725"
      },
      "outputs": [],
      "source": [
        "from collections import defaultdict\n",
        "import time\n",
        "from tqdm import tqdm\n",
        "\n",
        "class Node:\n",
        "    def __init__(self, model, X, Y, loss=None, optimizer=None, batch_size=128):\n",
        "        \"\"\"\n",
        "        Class of one node, that contains data for training and model\n",
        "        :param model: torch.nn.Module, personal model for this node\n",
        "        :param X: torch.tensor, features in trainset\n",
        "        :param Y: torch.tensor, targets in trainset\n",
        "        :param loss: callable, loss function\n",
        "        :param batch_size: int, batch size for training\n",
        "        \"\"\"\n",
        "        self.model = model.to(device)\n",
        "        self.X = X\n",
        "        self.Y = Y\n",
        "        if loss is None:\n",
        "            self.loss = nn.CrossEntropyLoss()\n",
        "        else:\n",
        "            self.loss = loss\n",
        "\n",
        "        if optimizer is None:\n",
        "            self.optimizer = Adam(model.parameters())\n",
        "        else:\n",
        "            self.optimizer = optimizer\n",
        "        \n",
        "        self.batch_size = batch_size\n",
        "\n",
        "class DistributedTrain:\n",
        "    def __init__(self, nodes):\n",
        "        \"\"\"\n",
        "        :param nodes: List[Node], the parameters of functions F_i for each node \n",
        "        \"\"\"\n",
        "        self.nodes = nodes\n",
        "        self.history = {'train_loss' : [], \n",
        "                        'test_accuracy' : [],\n",
        "                        'time' : [],\n",
        "                        'iter' : [],\n",
        "                        'test_loss' : [],}\n",
        "\n",
        "        \n",
        "    def train_models(self, num_epochs=1):\n",
        "        \"\"\"\n",
        "        Method for training models in all nodes separatly during `num_epochs` epochs\n",
        "        :param num_epochs: int, number of epochs for training\n",
        "        \"\"\"\n",
        "        for node in self.nodes:\n",
        "          # переводим в train\n",
        "          node.model.train()\n",
        "\n",
        "          for i in range(num_epochs):\n",
        "            batch = np.random.choice(node.X.shape[0], node.batch_size, False)\n",
        "            X_batch, Y_batch = node.X[batch], node.Y[batch]\n",
        "            loss_value = node.loss(node.model(X_batch), Y_batch)\n",
        "            loss_value.backward()\n",
        "            node.optimizer.step()\n",
        "            node.optimizer.zero_grad()\n",
        "\n",
        "          node.model.eval()\n",
        "\n",
        "\n",
        "    def average_models(self):\n",
        "        \"\"\"\n",
        "        Method to average models\n",
        "        \"\"\"\n",
        "        # опираемся на пераметры самой первой модели - \n",
        "        # не уверена что так супер правильно,\n",
        "        # но других идей нет - мб можно взять дефолтный CNN\n",
        "        self.role_model = self.nodes[0].model\n",
        "\n",
        "        states_to_upd = dict()\n",
        "\n",
        "        for param_tuple in self.role_model.named_parameters():\n",
        "          name, param = param_tuple\n",
        "          to_avg =  torch.zeros(param.size()).cuda()\n",
        "          for node in self.nodes:\n",
        "            to_avg += node.model.state_dict()[name]\n",
        "          states_to_upd[name] = to_avg / len(self.nodes)\n",
        "\n",
        "        for node in self.nodes:\n",
        "          node.model.load_state_dict(states_to_upd)\n",
        "        \n",
        "        \n",
        "    def train(self, num_global_epochs, num_local_epochs, X_test=None, Y_test=None, loss=None):\n",
        "        \"\"\"\n",
        "        Method to train model using nodes\n",
        "        :param num_global_epochs: int, number of communications\n",
        "        :param num_local_epochs: int, number of local epochs per communication\n",
        "        :param X_test: torch.tensor, features in test dataset\n",
        "        :param Y_test: torch.tensor, targets in test dataset\n",
        "        :param loss: callable, loss function\n",
        "        \"\"\"\n",
        "        \n",
        "        for i in tqdm(range(num_global_epochs)):\n",
        "          t0 = time.time()\n",
        "          self.train_models(num_local_epochs)\n",
        "          self.average_models()\n",
        "\n",
        "          self.history['time'].append(time.time() - t0)\n",
        "          self.history['iter'].append(i)\n",
        "          # уравняли после average\n",
        "          model_to_pred = self.nodes[0].model\n",
        "\n",
        "          with torch.no_grad():\n",
        "            train_loss = self.nodes[0].loss(self.nodes[0].model(self.nodes[0].X), self.nodes[0].Y)\n",
        "            if X_test is not None:\n",
        "                test_loss = self.nodes[0].loss(model_to_pred(X_test), Y_test)\n",
        "\n",
        "          preds = model_to_pred(X_test)\n",
        "          classes = torch.argmax(preds, axis = 1)\n",
        "          acc_vec = (classes == Y_test).float()\n",
        "          acc = torch.Tensor(acc_vec).mean().item()\n",
        "\n",
        "          self.history['test_accuracy'].append(acc)\n",
        "          self.history['train_loss'].append(train_loss)\n",
        "          self.history['test_loss'].append(test_loss)\n",
        "          "
      ]
    },
    {
      "cell_type": "code",
      "execution_count": 28,
      "metadata": {
        "id": "Ii1CFwYZHB1y"
      },
      "outputs": [],
      "source": [
        "device = 'cuda' if torch.cuda.is_available() else 'cpu'\n",
        "\n",
        "def get_tensors(dataloader):\n",
        "    X_, Y_ = [], []\n",
        "    for x, y in dataloader:\n",
        "        X_.append(x)\n",
        "        Y_.append(y)\n",
        "    X = torch.stack(X_).to(device)\n",
        "    Y = torch.tensor(Y_).view(-1).to(device)\n",
        "    return X, Y"
      ]
    },
    {
      "cell_type": "code",
      "execution_count": 18,
      "metadata": {
        "id": "yJb_xZ6Lxu4t"
      },
      "outputs": [],
      "source": [
        "mnist_trainset = datasets.MNIST(root='./data', train=True, download=True, transform=transforms.ToTensor())\n",
        "mnist_testset = datasets.MNIST(root='./data', train=False, download=True, transform=transforms.ToTensor())\n",
        "\n",
        "X, Y = get_tensors(mnist_trainset)\n",
        "X_test, Y_test = get_tensors(mnist_testset)"
      ]
    },
    {
      "cell_type": "code",
      "execution_count": 92,
      "metadata": {
        "id": "bW81pAUKF72_",
        "colab": {
          "base_uri": "https://localhost:8080/"
        },
        "outputId": "3fb50080-7e16-4487-ee54-a856dedec3ae"
      },
      "outputs": [
        {
          "output_type": "stream",
          "name": "stderr",
          "text": [
            "\r  0%|          | 0/50 [00:00<?, ?it/s]<ipython-input-5-0c038cec0b0c>:17: UserWarning: Implicit dimension choice for log_softmax has been deprecated. Change the call to include dim=X as an argument.\n",
            "  return F.log_softmax(x)\n",
            "100%|██████████| 50/50 [00:25<00:00,  1.99it/s]\n"
          ]
        }
      ],
      "source": [
        "num_nodes = 20\n",
        "\n",
        "nodes = []\n",
        "\n",
        "for i in range(num_nodes):\n",
        "  nodes.append(Node(model=CNN(), X=X, Y=Y))\n",
        "\n",
        "distr = DistributedTrain(nodes)\n",
        "distr.train(num_global_epochs=50, num_local_epochs=5, X_test=X_test, Y_test=Y_test)"
      ]
    },
    {
      "cell_type": "code",
      "source": [
        "train_loss = [elem.cpu().detach() for elem in distr.history['train_loss']]\n",
        "test_loss = [elem.cpu().detach() for elem in distr.history['test_loss']]\n"
      ],
      "metadata": {
        "id": "7LSghArxR0EZ"
      },
      "execution_count": 93,
      "outputs": []
    },
    {
      "cell_type": "code",
      "source": [
        "import seaborn as sns\n",
        "import matplotlib.pyplot as plt\n",
        "\n",
        "with sns.axes_style('darkgrid'):\n",
        "  plt.figure(figsize=(16, 10))\n",
        "\n",
        "  plt.subplot(1, 2, 1)\n",
        "  plt.title('Loss на train/test')\n",
        "  plt.plot(distr.history['iter'], train_loss, c='purple', lw=1.5, label='Train loss')\n",
        "  plt.plot(distr.history['iter'], test_loss, c='blue', lw=1.5, label='Test loss')\n",
        "  plt.xlabel('Эпоха')\n",
        "  plt.ylabel('Loss')\n",
        "  plt.legend(loc='best')\n",
        "\n",
        "  plt.subplot(1, 2, 2)\n",
        "  plt.title('Accuracy на test')\n",
        "  plt.plot(distr.history['iter'], distr.history['test_accuracy'], c='blue', lw=1.5)\n",
        "  plt.xlabel('Эпоха')\n",
        "  plt.ylabel('Test Accuracy')\n",
        "\n",
        "  plt.tight_layout()"
      ],
      "metadata": {
        "colab": {
          "base_uri": "https://localhost:8080/",
          "height": 729
        },
        "id": "pJRhLVVTQdiZ",
        "outputId": "152f7d1b-4c4a-4144-cb1b-2f9b8a30a284"
      },
      "execution_count": 94,
      "outputs": [
        {
          "output_type": "display_data",
          "data": {
            "text/plain": [
              "<Figure size 1152x720 with 2 Axes>"
            ],
            "image/png": "[encoded data removed]"
          },
          "metadata": {}
        }
      ]
    },
    {
      "cell_type": "markdown",
      "source": [
        "Выводы\n",
        "\n",
        "Тут это не видно - но лично у меня качетво очень сильно зависит от параметров num_global и num_local эпох - при малых значениях что loss что accuracy были не очень\n",
        "\n",
        "Главный вывод - что можно расспараллеливать задачу и улучшать качество"
      ],
      "metadata": {
        "id": "NbCW93heWE9F"
      }
    },
    {
      "cell_type": "markdown",
      "metadata": {
        "id": "yWe7sIWiF72-"
      },
      "source": [
        "# Задача 2*. [3]\n",
        "\n",
        "1. [1] Найдите субдифференциал функции $f(x)=\\|Ax-b\\|_{\\infty}$\n",
        "\n",
        "2. [2] Покажите, что субдифференциал функции $f(x)=\\|x\\|_2$ в нуле есть $\\partial f(0)=B_1(0)$."
      ]
    },
    {
      "cell_type": "markdown",
      "source": [
        "**Решение**\n",
        "\n",
        "1. [1]\n",
        "\n"
      ],
      "metadata": {
        "id": "Q3cfWWsUlUhd"
      }
    },
    {
      "cell_type": "markdown",
      "metadata": {
        "id": "N2nJSVK6F73B"
      },
      "source": [
        "# Задача 3. Periodic Signal Approximation [11]\n",
        "\n",
        "Будем называть сигнал $x\\in\\mathbb{R}^n$ $p$-периодическим ($p<n$), если $x_{i+p}=x_i$, для $i=\\overline{1\\dots n-p}$.\n",
        "\n",
        "В этой задаче мы рассмотрим задачу декомпозиции известного сигнала $y \\in \\mathbb{R}^n$ в сумму некоторых неизвестных периодических сигналов и некоторого шума. Иными словами, для заданного $y$ наша задача получить следующее разложение:\n",
        "$$y=\\sum\\limits_{p\\in \\mathcal{P}} x^{(p)}+v,$$\n",
        "где $x^{(p)}\\in\\mathbb{R}^n$ - искомые $p$-периодические сигналы, $\\mathcal{P}\\subseteq \\{1\\dots p_\\max\\}$ - неизвестное множество периодов (причем все периоды не превосходят заранее заданного $p_{\\max}$, $v$ - остаточный шум.\n",
        "\n",
        "Если бы $\\mathcal{P}$ было бы известно, то мы могли бы достаточно легко найти $x^{(p)}$, используя метод наименьших квадратов:\n",
        "$$\\min_{x^{(p)}\\in\\mathbb{R}^n, p\\in\\mathcal{P}} \\|y-\\sum\\limits_{p\\in \\mathcal{P}}x^{(p)}\\|^2,$$\n",
        "где $x^{(p)}$ все сигналы - $p$ периодические."
      ]
    },
    {
      "cell_type": "markdown",
      "metadata": {
        "id": "IBzFNWjsxu41"
      },
      "source": [
        "Однако поскольку ~~жизнь не сахар~~ $\\mathcal{P}$ не известно, мы будем искать необходимые периодические компоненты среди всевозможных периодов $\\{1\\dots p_\\max\\}$, добавив регуляризатор, штрафующий за использование большого количества периодов:\n",
        "\n",
        "$$\\min_{x^{(p)}\\in\\mathbb{R}^n, p=\\overline{1,p_{\\max}}} \\|y-\\sum\\limits_{p=1}^{p_{\\max}} x^{(p)}\\|^2+\\sum\\limits_{p=1}^{p_{\\max}}w_p \\|x^{(p)}\\|_2,$$\n",
        "$$\\text{s.t. } \\text{сигналы $x^{(p)}$ - $p$-периодические}.$$\n",
        "$$$$\n",
        "Коэффициенты регуляризации $w_p$ берут возрастающими."
      ]
    },
    {
      "cell_type": "markdown",
      "metadata": {
        "id": "Mveyfm-CF73C"
      },
      "source": [
        "*Не особо нужное для выполнения задания примечание:*\n",
        "Известна стратегия добавить регуляризатор вида $R(x)=\\|x\\|_1$. Он занулит \"лишние\" веса и тем самым упростит модель. Однако что если Вы можете разбить Ваши признаки на некоторые группы и хотите сделать отбор именно по группам? В таком случае, $\\ell_1$ регуляризатор может быть обобщен до вида $R(x)=\\sum\\limits_{g\\in G} \\|x_g\\|_2,$ где $x_g$ - множество параметров, соотвествующей некоторой группе признаков $g$. Не сложно заметить, что прокс-оператор для такого регуляризатора (см. пункт 2 этой задачи) будет иметь вид похожий, на прокс-оператор для $\\ell_1$-регуляризатора. Однако теперь он будет занулять не отдельные слишком малые коэффициенты, а сразу целую группу. Задача решения линейной регрессии с таким регуляризатором известна как **GroupLasso**. И аналагично, как для Lasso, можно показать, что в таком случае отбор будет происходить действительно по группам. Собственно, в данной задаче группами переменных у нас являются $p$-периодические сигналы. "
      ]
    },
    {
      "cell_type": "markdown",
      "metadata": {
        "id": "JrKt1p74F73D"
      },
      "source": [
        "В пунктах 4-5 используйте сигнал $y$ сгенерированный ниже и веса $w_p=\\sqrt{p}$.\n",
        "\n",
        "1. [1] Формализируйте задачу выше \n",
        "\n",
        "2. [1*] Покажите, что решение $\\min_{x\\in \\mathbb{R}^n}\\left\\{\\|x\\|_2 + \\frac{1}{2\\alpha}\\|x-y\\|_2^2\\right\\}$ дается следующей формулой:\n",
        "$$x=y\\left(1-\\frac{\\alpha}{\\|y\\|_2}\\right)_+$$\n",
        "\n",
        "3. [2] Переформулируйте задачу в пригодном виде для применения ADMM\n",
        "\n",
        "4. [5] Выпишите шаги ADMM и их аналитические решения в явном виде\n",
        "\n",
        "\n",
        "5. [3] Решите задачу выше при помощи cvxpy. Посмотрите на структуру решения.\n",
        "\n",
        "6. [3*] Реализуйте метод ADMM для задачи выше\n",
        "\n",
        "7. [2*] Сравните скорость сходимости метода ADMM для различных его параметров к известному из пункта 4 решению. Выберите лучшие параметры и не меняйте их далее\n",
        "\n",
        "8. [2*] Далее Вам предлагается посмотреть на эффективность такого метода разложения на периоды для различной изначальной структуры $y$ и различных стратегий выбора весов $w_p$. Тут ожидается, что Вы сами придумаете качественно различные случаи $y$ и стратегий выбора весов $w_p$. Это творческое задание, чем интереснее будет Ваш анализ - тем лучше. Для получения ровно трех баллов вам достаточно проанализировать каких-нибудь два $y$ и две стратегии для $w_p$. В этом пункте Вы можете использовать как cvxpy, так и ADMM."
      ]
    },
    {
      "cell_type": "markdown",
      "metadata": {
        "id": "8eyG-zuNF73D"
      },
      "source": [
        "### Решение задачи 3:"
      ]
    },
    {
      "cell_type": "code",
      "execution_count": null,
      "metadata": {
        "id": "KtdPBYNVF73D"
      },
      "outputs": [],
      "source": [
        "import numpy as np\n",
        "import matplotlib.pyplot as plt"
      ]
    },
    {
      "cell_type": "code",
      "execution_count": null,
      "metadata": {
        "id": "nUdlRkT1F73E"
      },
      "outputs": [],
      "source": [
        "n = 300\n",
        "eps = 1e-1\n",
        "np.random.seed(1)\n",
        "T_list = np.array([9,10, 50, 100])\n",
        "X_p = np.sin(2 * np.pi * np.outer(1/T_list, np.arange(n)))\n",
        "y = eps * np.random.randn(n) + X_p.sum(axis=0)\n",
        "plt.plot(y)"
      ]
    },
    {
      "cell_type": "code",
      "execution_count": null,
      "metadata": {
        "id": "-jSsruCmxu42"
      },
      "outputs": [],
      "source": [
        "# Место для Вашего решения"
      ]
    }
  ],
  "metadata": {
    "accelerator": "GPU",
    "colab": {
      "provenance": []
    },
    "gpuClass": "standard",
    "kernelspec": {
      "display_name": "Python 3",
      "language": "python",
      "name": "python3"
    },
    "language_info": {
      "codemirror_mode": {
        "name": "ipython",
        "version": 3
      },
      "file_extension": ".py",
      "mimetype": "text/x-python",
      "name": "python",
      "nbconvert_exporter": "python",
      "pygments_lexer": "ipython3",
      "version": "3.7.3"
    }
  },
  "nbformat": 4,
  "nbformat_minor": 0
}